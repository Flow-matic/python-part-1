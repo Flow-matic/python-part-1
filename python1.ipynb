{
 "cells": [
  {
   "cell_type": "code",
   "execution_count": 1,
   "source": [
    "print('Hello World')\n",
    "\n",
    "var = 8\n",
    "print(var)\n",
    "\n",
    "var = 3.142\n",
    "print(var)\n",
    "\n",
    "var = True\n",
    "print(var)\n",
    "\n",
    "# Initialise program status\n",
    "running = True\n",
    "print('run state', running)\n",
    "\n",
    "# Store Input\n",
    "name = input('please enter your name')\n",
    "print('Hi, name')\n",
    "print('welcome to coding for beginners in easy steps')\n",
    "print('remember to have fun', name, '!')"
   ],
   "outputs": [
    {
     "output_type": "stream",
     "name": "stdout",
     "text": [
      "Hello World\n",
      "8\n",
      "3.142\n",
      "True\n",
      "run state True\n",
      "Hi, name\n",
      "welcome to coding for beginners in easy steps\n",
      "remember to have fun jonathan !\n",
      "Hi, name\n",
      "welcome to coding for beginners in easy steps\n",
      "remember to have fun jonathan !\n"
     ]
    }
   ],
   "metadata": {}
  }
 ],
 "nbformat": 4,
 "nbformat_minor": 2,
 "metadata": {
  "language_info": {
   "codemirror_mode": {
    "name": "ipython",
    "version": 3
   },
   "file_extension": ".py",
   "mimetype": "text/x-python",
   "name": "python",
   "nbconvert_exporter": "python",
   "pygments_lexer": "ipython3",
   "version": 3
  },
  "orig_nbformat": 4
 }
}